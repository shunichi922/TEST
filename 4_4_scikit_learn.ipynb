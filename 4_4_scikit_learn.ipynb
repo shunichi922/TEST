{
  "nbformat": 4,
  "nbformat_minor": 0,
  "metadata": {
    "colab": {
      "name": "4.4_scikit-learn.ipynb",
      "provenance": [],
      "collapsed_sections": [],
      "toc_visible": true,
      "authorship_tag": "ABX9TyNOm5lSnFKEOb4LIBfgOYHx",
      "include_colab_link": true
    },
    "kernelspec": {
      "name": "python3",
      "display_name": "Python 3"
    }
  },
  "cells": [
    {
      "cell_type": "markdown",
      "metadata": {
        "id": "view-in-github",
        "colab_type": "text"
      },
      "source": [
        "<a href=\"https://colab.research.google.com/github/shunichi922/TEST/blob/TEST/4_4_scikit_learn.ipynb\" target=\"_parent\"><img src=\"https://colab.research.google.com/assets/colab-badge.svg\" alt=\"Open In Colab\"/></a>"
      ]
    },
    {
      "cell_type": "markdown",
      "metadata": {
        "id": "cwam0ziY_NYs"
      },
      "source": [
        "# 4.4 scikit-learn"
      ]
    },
    {
      "cell_type": "markdown",
      "metadata": {
        "id": "Kvj3551J_USz"
      },
      "source": [
        "## 4.4.1 前処理"
      ]
    },
    {
      "cell_type": "markdown",
      "metadata": {
        "id": "9iawdeR7_cFz"
      },
      "source": [
        "### ●欠損値への対応"
      ]
    },
    {
      "cell_type": "code",
      "metadata": {
        "id": "IHU6xHj0qeRU",
        "colab": {
          "base_uri": "https://localhost:8080/",
          "height": 204
        },
        "outputId": "0ecfb403-2d42-4a45-c0e0-f1515e084ef7"
      },
      "source": [
        "import numpy as np\n",
        "import pandas as pd\n",
        "# サンプルのデータセットを作成\n",
        "df = pd.DataFrame(\n",
        "    {\n",
        "        \"A\": [1, np.nan, 3, 4, 5],\n",
        "        \"B\": [6, 7, 8, np.nan, 10],\n",
        "        \"C\": [11, 12, 13, 14, 15]\n",
        "    }\n",
        ")\n",
        "df"
      ],
      "execution_count": null,
      "outputs": [
        {
          "output_type": "execute_result",
          "data": {
            "text/html": [
              "<div>\n",
              "<style scoped>\n",
              "    .dataframe tbody tr th:only-of-type {\n",
              "        vertical-align: middle;\n",
              "    }\n",
              "\n",
              "    .dataframe tbody tr th {\n",
              "        vertical-align: top;\n",
              "    }\n",
              "\n",
              "    .dataframe thead th {\n",
              "        text-align: right;\n",
              "    }\n",
              "</style>\n",
              "<table border=\"1\" class=\"dataframe\">\n",
              "  <thead>\n",
              "    <tr style=\"text-align: right;\">\n",
              "      <th></th>\n",
              "      <th>A</th>\n",
              "      <th>B</th>\n",
              "      <th>C</th>\n",
              "    </tr>\n",
              "  </thead>\n",
              "  <tbody>\n",
              "    <tr>\n",
              "      <th>0</th>\n",
              "      <td>1.0</td>\n",
              "      <td>6.0</td>\n",
              "      <td>11</td>\n",
              "    </tr>\n",
              "    <tr>\n",
              "      <th>1</th>\n",
              "      <td>NaN</td>\n",
              "      <td>7.0</td>\n",
              "      <td>12</td>\n",
              "    </tr>\n",
              "    <tr>\n",
              "      <th>2</th>\n",
              "      <td>3.0</td>\n",
              "      <td>8.0</td>\n",
              "      <td>13</td>\n",
              "    </tr>\n",
              "    <tr>\n",
              "      <th>3</th>\n",
              "      <td>4.0</td>\n",
              "      <td>NaN</td>\n",
              "      <td>14</td>\n",
              "    </tr>\n",
              "    <tr>\n",
              "      <th>4</th>\n",
              "      <td>5.0</td>\n",
              "      <td>10.0</td>\n",
              "      <td>15</td>\n",
              "    </tr>\n",
              "  </tbody>\n",
              "</table>\n",
              "</div>"
            ],
            "text/plain": [
              "     A     B   C\n",
              "0  1.0   6.0  11\n",
              "1  NaN   7.0  12\n",
              "2  3.0   8.0  13\n",
              "3  4.0   NaN  14\n",
              "4  5.0  10.0  15"
            ]
          },
          "metadata": {
            "tags": []
          },
          "execution_count": 1
        }
      ]
    },
    {
      "cell_type": "code",
      "metadata": {
        "colab": {
          "base_uri": "https://localhost:8080/",
          "height": 204
        },
        "id": "RJbGHo2iAGmo",
        "outputId": "df02af56-256b-4361-8e01-b15c2deb7136"
      },
      "source": [
        "# 各要素が欠損値かどうか確かめる\n",
        "df.isnull()"
      ],
      "execution_count": null,
      "outputs": [
        {
          "output_type": "execute_result",
          "data": {
            "text/html": [
              "<div>\n",
              "<style scoped>\n",
              "    .dataframe tbody tr th:only-of-type {\n",
              "        vertical-align: middle;\n",
              "    }\n",
              "\n",
              "    .dataframe tbody tr th {\n",
              "        vertical-align: top;\n",
              "    }\n",
              "\n",
              "    .dataframe thead th {\n",
              "        text-align: right;\n",
              "    }\n",
              "</style>\n",
              "<table border=\"1\" class=\"dataframe\">\n",
              "  <thead>\n",
              "    <tr style=\"text-align: right;\">\n",
              "      <th></th>\n",
              "      <th>A</th>\n",
              "      <th>B</th>\n",
              "      <th>C</th>\n",
              "    </tr>\n",
              "  </thead>\n",
              "  <tbody>\n",
              "    <tr>\n",
              "      <th>0</th>\n",
              "      <td>False</td>\n",
              "      <td>False</td>\n",
              "      <td>False</td>\n",
              "    </tr>\n",
              "    <tr>\n",
              "      <th>1</th>\n",
              "      <td>True</td>\n",
              "      <td>False</td>\n",
              "      <td>False</td>\n",
              "    </tr>\n",
              "    <tr>\n",
              "      <th>2</th>\n",
              "      <td>False</td>\n",
              "      <td>False</td>\n",
              "      <td>False</td>\n",
              "    </tr>\n",
              "    <tr>\n",
              "      <th>3</th>\n",
              "      <td>False</td>\n",
              "      <td>True</td>\n",
              "      <td>False</td>\n",
              "    </tr>\n",
              "    <tr>\n",
              "      <th>4</th>\n",
              "      <td>False</td>\n",
              "      <td>False</td>\n",
              "      <td>False</td>\n",
              "    </tr>\n",
              "  </tbody>\n",
              "</table>\n",
              "</div>"
            ],
            "text/plain": [
              "       A      B      C\n",
              "0  False  False  False\n",
              "1   True  False  False\n",
              "2  False  False  False\n",
              "3  False   True  False\n",
              "4  False  False  False"
            ]
          },
          "metadata": {
            "tags": []
          },
          "execution_count": 2
        }
      ]
    },
    {
      "cell_type": "markdown",
      "metadata": {
        "id": "XuDrMm7_Cw58"
      },
      "source": [
        "#### ■写経中に遭遇したscikit-learnのワーニングに対応してみた\n",
        "https://qiita.com/y_nishimura/items/6d022a25beb21a186d60"
      ]
    },
    {
      "cell_type": "code",
      "metadata": {
        "colab": {
          "base_uri": "https://localhost:8080/"
        },
        "id": "bJcwleSLAXmI",
        "outputId": "94d9087d-0a9a-4ce6-9f73-151eeab7a31a"
      },
      "source": [
        "#from sklearn.preprocessing import Imputer\n",
        "from sklearn.impute import SimpleImputer\n",
        "\n",
        "# 平均値で欠損値を補完するインスタンスを作成する\n",
        "#imp = Imputer(strategy=\"mean\", axis=0)\n",
        "imp = SimpleImputer(strategy=\"mean\")\n",
        "\n",
        "# 欠損値を補完\n",
        "imp.fit(df)\n",
        "imp.transform(df)"
      ],
      "execution_count": null,
      "outputs": [
        {
          "output_type": "execute_result",
          "data": {
            "text/plain": [
              "array([[ 1.  ,  6.  , 11.  ],\n",
              "       [ 3.25,  7.  , 12.  ],\n",
              "       [ 3.  ,  8.  , 13.  ],\n",
              "       [ 4.  ,  7.75, 14.  ],\n",
              "       [ 5.  , 10.  , 15.  ]])"
            ]
          },
          "metadata": {
            "tags": []
          },
          "execution_count": 11
        }
      ]
    },
    {
      "cell_type": "markdown",
      "metadata": {
        "id": "rnBFh4smD0aV"
      },
      "source": [
        "### ●カテゴリ変数のエンコーディング"
      ]
    },
    {
      "cell_type": "code",
      "metadata": {
        "colab": {
          "base_uri": "https://localhost:8080/",
          "height": 204
        },
        "id": "rWglMHBSA_Id",
        "outputId": "b90be2ea-90fe-48e9-a999-9f4d9521322b"
      },
      "source": [
        "import pandas as pd\n",
        "df = pd.DataFrame(\n",
        "    {\n",
        "        \"A\": [1, 2, 3, 4, 5],\n",
        "        \"B\": [\"a\", \"b\", \"a\", \"b\", \"c\"]\n",
        "    }\n",
        ")\n",
        "df"
      ],
      "execution_count": null,
      "outputs": [
        {
          "output_type": "execute_result",
          "data": {
            "text/html": [
              "<div>\n",
              "<style scoped>\n",
              "    .dataframe tbody tr th:only-of-type {\n",
              "        vertical-align: middle;\n",
              "    }\n",
              "\n",
              "    .dataframe tbody tr th {\n",
              "        vertical-align: top;\n",
              "    }\n",
              "\n",
              "    .dataframe thead th {\n",
              "        text-align: right;\n",
              "    }\n",
              "</style>\n",
              "<table border=\"1\" class=\"dataframe\">\n",
              "  <thead>\n",
              "    <tr style=\"text-align: right;\">\n",
              "      <th></th>\n",
              "      <th>A</th>\n",
              "      <th>B</th>\n",
              "    </tr>\n",
              "  </thead>\n",
              "  <tbody>\n",
              "    <tr>\n",
              "      <th>0</th>\n",
              "      <td>1</td>\n",
              "      <td>a</td>\n",
              "    </tr>\n",
              "    <tr>\n",
              "      <th>1</th>\n",
              "      <td>2</td>\n",
              "      <td>b</td>\n",
              "    </tr>\n",
              "    <tr>\n",
              "      <th>2</th>\n",
              "      <td>3</td>\n",
              "      <td>a</td>\n",
              "    </tr>\n",
              "    <tr>\n",
              "      <th>3</th>\n",
              "      <td>4</td>\n",
              "      <td>b</td>\n",
              "    </tr>\n",
              "    <tr>\n",
              "      <th>4</th>\n",
              "      <td>5</td>\n",
              "      <td>c</td>\n",
              "    </tr>\n",
              "  </tbody>\n",
              "</table>\n",
              "</div>"
            ],
            "text/plain": [
              "   A  B\n",
              "0  1  a\n",
              "1  2  b\n",
              "2  3  a\n",
              "3  4  b\n",
              "4  5  c"
            ]
          },
          "metadata": {
            "tags": []
          },
          "execution_count": 12
        }
      ]
    },
    {
      "cell_type": "code",
      "metadata": {
        "colab": {
          "base_uri": "https://localhost:8080/"
        },
        "id": "MBRB8b4tB3hy",
        "outputId": "9f91a58f-9fb9-408c-c8e9-9d577e16e987"
      },
      "source": [
        "from sklearn.preprocessing import LabelEncoder\n",
        "# ラベルエンコーダのインスタンスを生成\n",
        "le = LabelEncoder()\n",
        "# ラベルのエンコーディング\n",
        "le.fit(df[\"B\"])\n",
        "le.transform(df[\"B\"])"
      ],
      "execution_count": null,
      "outputs": [
        {
          "output_type": "execute_result",
          "data": {
            "text/plain": [
              "array([0, 1, 0, 1, 2])"
            ]
          },
          "metadata": {
            "tags": []
          },
          "execution_count": 16
        }
      ]
    },
    {
      "cell_type": "code",
      "metadata": {
        "colab": {
          "base_uri": "https://localhost:8080/"
        },
        "id": "PUhDdNAjCBw7",
        "outputId": "bdaa906b-5373-4df3-be78-a842547b2bc1"
      },
      "source": [
        "# 元の値を確認\n",
        "le.classes_"
      ],
      "execution_count": null,
      "outputs": [
        {
          "output_type": "execute_result",
          "data": {
            "text/plain": [
              "array(['a', 'b', 'c'], dtype=object)"
            ]
          },
          "metadata": {
            "tags": []
          },
          "execution_count": 17
        }
      ]
    },
    {
      "cell_type": "markdown",
      "metadata": {
        "id": "fXNeNvocHeeh"
      },
      "source": [
        "#### ■写経中に遭遇したscikit-learnのワーニングに対応してみた\n",
        "https://qiita.com/y_nishimura/items/6d022a25beb21a186d60"
      ]
    },
    {
      "cell_type": "code",
      "metadata": {
        "colab": {
          "base_uri": "https://localhost:8080/"
        },
        "id": "B_i18101Ev9A",
        "outputId": "2a561fd0-170c-4f29-9f78-930893e61d07"
      },
      "source": [
        "#from sklearn.preprocessing import LabelEncoder, OneHotEncoder\n",
        "from sklearn.compose import ColumnTransformer\n",
        "from sklearn.feature_extraction.text import CountVectorizer\n",
        "\n",
        "# DataFrameをコピー\n",
        "df_ohe = df.copy()\n",
        "\n",
        "# ラベルエンコーダのインスタンス化\n",
        "#le = LabelEncoder()\n",
        "\n",
        "# 英語のa、b、cを1、2、3に変換\n",
        "#df_ohe[\"B\"] = le.fit_transform(df_ohe[\"B\"])\n",
        "\n",
        "# One-hotエンコーダのインスタンス化\n",
        "#ohe = OneHotEncoder(categorical_features=[1])\n",
        "\n",
        "# ColumnTransformerのインスタンス化\n",
        "ct = ColumnTransformer([('B_x', CountVectorizer(analyzer=lambda x: [x]), 'B')],\n",
        "    remainder = 'passthrough')\n",
        "\n",
        "# One-hotエンコーディング\n",
        "#ohe.fit_transform(df_ohe).toarray()\n",
        "ct.fit_transform(df_ohe)"
      ],
      "execution_count": null,
      "outputs": [
        {
          "output_type": "execute_result",
          "data": {
            "text/plain": [
              "array([[1, 0, 0, 1],\n",
              "       [0, 1, 0, 2],\n",
              "       [1, 0, 0, 3],\n",
              "       [0, 1, 0, 4],\n",
              "       [0, 0, 1, 5]])"
            ]
          },
          "metadata": {
            "tags": []
          },
          "execution_count": 21
        }
      ]
    },
    {
      "cell_type": "markdown",
      "metadata": {
        "id": "xbCwCnnEIAmI"
      },
      "source": [
        "### ●特徴量の正規化"
      ]
    },
    {
      "cell_type": "code",
      "metadata": {
        "id": "hLfR2qm6IGCU"
      },
      "source": [
        ""
      ],
      "execution_count": null,
      "outputs": []
    }
  ]
}